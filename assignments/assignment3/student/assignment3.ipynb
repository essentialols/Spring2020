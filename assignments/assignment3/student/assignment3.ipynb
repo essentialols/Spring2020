{
 "cells": [
  {
   "cell_type": "code",
   "execution_count": null,
   "metadata": {
    "deletable": false,
    "editable": false
   },
   "outputs": [],
   "source": [
    "# initializing otter-grader\n",
    "import otter\n",
    "grader = otter.Notebook()"
   ]
  },
  {
   "cell_type": "markdown",
   "metadata": {
    "hideCode": false,
    "hidePrompt": false
   },
   "source": [
    "# Assignment 3: Exploratory Data Analysis in Professional Basketball\n",
    "\n",
    "In this assignment we'll conduct an exploratory data analysis of professional basketball data.  Basketball is a team sport in which the goal is to try to outscore the amount in a fixed amount of time. Points are scored (either 2 or 3 points) by putting the ball throw a hoop on one end of the court.  An attempt at putting the ball throw the hoop is known as a \"shot\".  If helpful, you can read more about [the rules of basketball](https://en.wikipedia.org/wiki/Rules_of_basketball).\n",
    "\n",
    "The National Basketball Association (NBA) is the professional basketball league in the United States and provides a nice website with many statistics gathered on teams and players in the league: [http://stat.nba.com](http://stat.nba.com). "
   ]
  },
  {
   "cell_type": "markdown",
   "metadata": {
    "hideCode": false,
    "hidePrompt": false
   },
   "source": [
    "## Question 1: Managing data files\n",
    "\n",
    "As seen in lecture, data can be downloaded from NBA using appropriately constructed GET requests. Downloading files from class Jupyterhub cluster do not work; however, you will find all raw data here: https://ucsb.box.com/shared/static/940qiuxyp798gv4nx8iwvazu9qqjs37e.zip\n",
    "\n",
    "Download and unzip the file to a directory named `data`. You will find three types of files:\n",
    "\n",
    "* Team data: `commonTeamYears?LeagueID=00&Season=2018-19`\n",
    "* Player data: `commonallplayers?LeagueID=00&Season=2018-19&IsOnlyCurrentSeason=0`\n",
    "* Player's shot data: `shotchartdetail?PlayerID=[PlayerID]&PlayerPosition=&Season=2018-19&ContextMeasure=FGA&DateFrom=&DateTo=&GameID=&GameSegment=&LastNGames=0&LeagueID=00&Location=&Month=0&OpponentTeamID=0&Outcome=&Period=0&Position=&RookieYear=&SeasonSegment=&`\n",
    "\n",
    "Each player's shot data is identified by replacing `[PlayerID]` with their numeric ID."
   ]
  },
  {
   "cell_type": "markdown",
   "metadata": {
    "hideCode": false,
    "hidePrompt": false
   },
   "source": [
    "### Checking files\n",
    "\n",
    "Two `PlayerID`s have duplicate files with slightly different names. Locate and remove redudant files. One strategy would be to construct a bash command chain to \n",
    "\n",
    "1. List all `shotchartdetail` files (one per line) with `ls ??? shotchartdetail\\?PlayerID=*`. What is the option for printing one filename on each row?\n",
    "1. Extract PlayerIDs from each filename by removing portions around `PlayerID`:  \n",
    "    _Hint: I used `cut` command to repeatedly split the filename at appropriate symbols. Options `-d` and `-f` might be helpful_  \n",
    "    Example: `echo 'aaa?bbb=ccc' | cut -d ??? -f ???` (replace `???`)\n",
    "1. Sort row ordering with `sort`. What is the option to sort numericcally?  \n",
    "    Example: `echo \"1111\\n2\\n3\" | sort ???`\n",
    "1. Count occurence of each `PlayerID` with `uniq ???`. What option prints duplicated lines?\n",
    "\n",
    "You would get something like: `ls ??? shotchartdetail\\?PlayerID=* | cut -d ??? -f ??? | cut -d ??? -f ??? | sort ??? | uniq | wc ???`.\n",
    "Assign the result to a python variable named `uniqueshotfiles`: i.e., something like\n",
    "\n",
    "```\n",
    "filecount = !ls ??? shotchartdetail\\?PlayerID=* \\\n",
    "                | cut -d ??? -f ??? \\\n",
    "                | cut -d ??? -f ??? \\\n",
    "                | sort ??? \\\n",
    "                | uniq ???\n",
    "```\n",
    "\n",
    "**Note: Preprocessing of data files will not be part of the grading process. Your commands up until this point do need to be a part of your submitted assignment. When we run your notebook, correct set of files will be provided in `data/` directory**"
   ]
  },
  {
   "cell_type": "markdown",
   "metadata": {
    "deletable": false,
    "editable": false,
    "hideCode": false,
    "hidePrompt": false
   },
   "source": [
    "### Question 1a: Team Data\n",
    "\n",
    "Read team data file into a pandas data frame named `allteams`.\n",
    "\n",
    "<!--\n",
    "BEGIN QUESTION\n",
    "name: q1a\n",
    "manual: false\n",
    "points: 3\n",
    "-->"
   ]
  },
  {
   "cell_type": "code",
   "execution_count": 1,
   "metadata": {
    "hideCode": false,
    "hidePrompt": false
   },
   "outputs": [],
   "source": [
    "%matplotlib inline\n",
    "\n",
    "import pandas as pd\n",
    "import numpy as np\n",
    "import json\n",
    "\n",
    "json_str = !cat data/commonTeamYears\\?LeagueID\\=00\\&Season\\=2018-19\n",
    "json_obj = json.loads(json_str[0])\n",
    "...\n",
    "allteams = ..."
   ]
  },
  {
   "cell_type": "markdown",
   "metadata": {
    "deletable": false,
    "editable": false,
    "hideCode": false,
    "hidePrompt": false
   },
   "source": [
    "### Question 1b: Player Data\n",
    "\n",
    "Read players data file with name `data/commonallplayers?LeagueID=00&Season=2018-19&IsOnlyCurrentSeason=0` into a pandas data frame named `allplayers`. Set row index to be `PERSON_ID`. Note the escape symbols from the previous question.\n",
    "<!--\n",
    "BEGIN QUESTION\n",
    "name: q1b\n",
    "manual: false\n",
    "points: 3\n",
    "-->"
   ]
  },
  {
   "cell_type": "code",
   "execution_count": 5,
   "metadata": {
    "hideCode": false,
    "hidePrompt": false
   },
   "outputs": [],
   "source": [
    "...\n",
    "allplayers = ..."
   ]
  },
  {
   "cell_type": "markdown",
   "metadata": {
    "deletable": false,
    "editable": false,
    "hideCode": false,
    "hidePrompt": false
   },
   "source": [
    "### Question 1c: Shots Data\n",
    "\n",
    "Read shotchart data into a _list of pandas data frames_ named `allshotslist` (each file is an data frame item in the list). Filenames have symbols that need to be surrounded by quotes.\n",
    "\n",
    "Then concate them into a `allshots`. Also, set the row index to be `PLAYER_ID`\n",
    "<!--\n",
    "BEGIN QUESTION\n",
    "name: q1c\n",
    "manual: false\n",
    "points: 4\n",
    "-->"
   ]
  },
  {
   "cell_type": "code",
   "execution_count": 10,
   "metadata": {
    "hideCode": false,
    "hidePrompt": false
   },
   "outputs": [],
   "source": [
    "allshotslist = []\n",
    "\n",
    "files = !ls -1 data/shotchartdetail*\n",
    "for f in files:\n",
    "    ...\n",
    "    \n",
    "allshots = ..."
   ]
  },
  {
   "cell_type": "markdown",
   "metadata": {
    "deletable": false,
    "editable": false,
    "hideCode": false,
    "hidePrompt": false
   },
   "source": [
    "### Question 1d: Extract Stephen Curry's Shot Data\n",
    "\n",
    "Use [`allplayers.query()`](https://pandas.pydata.org/pandas-docs/stable/reference/api/pandas.DataFrame.query.html) to find the player id (index) associated with the player named \"[Stephen Curry](https://en.wikipedia.org/wiki/Stephen_Curry)\".  Set the value of `PlayerID` as `curry_id`. \n",
    "\n",
    "Subset all of Stephen Curry's shots in a data frame named `curry_data`. Also, set the dtype of `SHOT_MADE_FLAG` to `'bool'` in one command. Something like:  \n",
    "```\n",
    "curry_data = allshots.query(???).astype(????)\n",
    "```\n",
    "\n",
    "<!--\n",
    "BEGIN QUESTION\n",
    "name: q1d\n",
    "manual: false\n",
    "points: 6\n",
    "-->"
   ]
  },
  {
   "cell_type": "code",
   "execution_count": 17,
   "metadata": {
    "hideCode": false,
    "hidePrompt": false
   },
   "outputs": [],
   "source": [
    "query_str = 'DISPLAY_FIRST_LAST == \"Stephen Curry\"'\n",
    "curry_id = ...\n",
    "curry_data = ..."
   ]
  },
  {
   "cell_type": "markdown",
   "metadata": {
    "deletable": false,
    "editable": false
   },
   "source": [
    "<!--\n",
    "BEGIN QUESTION\n",
    "name: q1d_hidden\n",
    "manual: false\n",
    "points: 2\n",
    "-->"
   ]
  },
  {
   "cell_type": "code",
   "execution_count": 21,
   "metadata": {},
   "outputs": [],
   "source": [
    "# leave blank"
   ]
  },
  {
   "cell_type": "markdown",
   "metadata": {
    "deletable": false,
    "editable": false,
    "hideCode": false,
    "hidePrompt": false
   },
   "source": [
    "### Question 1e: Grouping Different Types of Shots\n",
    "\n",
    "A glossary of basketball terms can be found here: https://stats.nba.com/help/glossary/\n",
    "\n",
    "Here are some of the key ones:\n",
    "- Field goal: a basketball shot\n",
    "- FGA: Field Goals Attempted \n",
    "- FGM: Field Goals Made\n",
    "\n",
    "Group the data by `SHOT_ZONE_RANGE` and call the `size()` function on the resulting `groupby` data frame to get the number of shot attempts in different areas of the court.  Save this in `shot_zone_range`.  How many shots were taken within 8 feet of the basket? How many shots were taken further than 24 feet from the basket? Save these in the appropriate variable below.\n",
    "\n",
    "<!--\n",
    "BEGIN QUESTION\n",
    "name: q1e1\n",
    "manual: false\n",
    "points: 6\n",
    "-->"
   ]
  },
  {
   "cell_type": "code",
   "execution_count": 23,
   "metadata": {
    "hideCode": false,
    "hidePrompt": false
   },
   "outputs": [],
   "source": [
    "shot_zone_range = ...\n",
    "shots_inside_8 = ...\n",
    "shots_24_plus = ..."
   ]
  },
  {
   "cell_type": "markdown",
   "metadata": {
    "deletable": false,
    "editable": false
   },
   "source": [
    "<!--\n",
    "BEGIN QUESTION\n",
    "name: q1e1_hidden\n",
    "manual: false\n",
    "points: 6\n",
    "-->"
   ]
  },
  {
   "cell_type": "code",
   "execution_count": 27,
   "metadata": {},
   "outputs": [],
   "source": [
    "# leave blank"
   ]
  },
  {
   "cell_type": "markdown",
   "metadata": {
    "deletable": false,
    "editable": false,
    "hideCode": false,
    "hidePrompt": false
   },
   "source": [
    "Create a table of counts for `SHOT_ZONE_AREA`.\n",
    "\n",
    "<!--\n",
    "BEGIN QUESTION\n",
    "name: q1e2\n",
    "manual: false\n",
    "points: 2\n",
    "-->"
   ]
  },
  {
   "cell_type": "code",
   "execution_count": 29,
   "metadata": {
    "hideCode": false,
    "hidePrompt": false
   },
   "outputs": [],
   "source": [
    "shot_zone_area = ..."
   ]
  },
  {
   "cell_type": "markdown",
   "metadata": {
    "deletable": false,
    "editable": false
   },
   "source": [
    "<!--\n",
    "BEGIN QUESTION\n",
    "name: q1e2_hidden\n",
    "manual: false\n",
    "points: 2\n",
    "-->"
   ]
  },
  {
   "cell_type": "code",
   "execution_count": 31,
   "metadata": {},
   "outputs": [],
   "source": [
    "# leave blank"
   ]
  },
  {
   "cell_type": "markdown",
   "metadata": {
    "deletable": false,
    "editable": false,
    "hideCode": false,
    "hidePrompt": false
   },
   "source": [
    "### Question 1f: Pivot Table of Shot Types\n",
    "\n",
    "Use [pivot table](https://pandas.pydata.org/pandas-docs/stable/reference/api/pandas.pivot_table.html) to generate a table with entries representing the fraction of attempted shots that were made (i.e. compute the field goal percentage) by both range and area for each period of the game. Set the rows (`index`) to correspond to the `PERIOD` and the columns corresponding to `SHOT_ZONE_RANGE` and `SHOT_ZONE AREA` (_in that order_).  Fill any missing entries in the pivot table by setting an [appropriate argument](https://pandas.pydata.org/pandas-docs/stable/reference/api/pandas.pivot_table.html).\n",
    "\n",
    "<!--\n",
    "BEGIN QUESTION\n",
    "name: q1f\n",
    "manual: false\n",
    "points: 5\n",
    "-->"
   ]
  },
  {
   "cell_type": "code",
   "execution_count": 33,
   "metadata": {
    "hideCode": false,
    "hidePrompt": false
   },
   "outputs": [],
   "source": [
    "FGpercent_table = ..."
   ]
  },
  {
   "cell_type": "markdown",
   "metadata": {
    "deletable": false,
    "editable": false
   },
   "source": [
    "<!--\n",
    "BEGIN QUESTION\n",
    "name: q1f_hidden\n",
    "manual: false\n",
    "points: 3\n",
    "-->"
   ]
  },
  {
   "cell_type": "code",
   "execution_count": 1,
   "metadata": {},
   "outputs": [],
   "source": [
    "# leave blank"
   ]
  },
  {
   "cell_type": "markdown",
   "metadata": {
    "deletable": false,
    "editable": false,
    "hideCode": false,
    "hidePrompt": false
   },
   "source": [
    "### Question 1g: Interpreting Pivot Table Results\n",
    "\n",
    "You are interested in identifying whether Stephen Curry has different behavior in different periods of the game.  In a few sentences, discuss how might you identify whether Curry's shot selection is different early in the game (e.g. periods 1 and 2) than later in the game (e.g. periods 3 and 4)?  This is an open ended question and the answer can include looking at visualizations, statistical tests etc.\n",
    "\n",
    "\n",
    "<!--\n",
    "BEGIN QUESTION\n",
    "name: q1g\n",
    "manual: true\n",
    "points: 5\n",
    "-->\n",
    "<!-- EXPORT TO PDF -->"
   ]
  },
  {
   "cell_type": "markdown",
   "metadata": {
    "hideCode": false,
    "hidePrompt": false
   },
   "source": [
    "*Write your answer here, replacing this text.*"
   ]
  },
  {
   "cell_type": "markdown",
   "metadata": {
    "hideCode": false,
    "hidePrompt": false
   },
   "source": [
    "## Question 2: Visualization"
   ]
  },
  {
   "cell_type": "markdown",
   "metadata": {
    "hideCode": false,
    "hidePrompt": false
   },
   "source": [
    "### Question 2a: All Shots Scatter Plot\n",
    "Use `seaborn` to create scatter plot of the location of Stephen Curry's shot attempts from this year (`LOC_X` and `LOC_Y`).  When you call a scatterplot, seaborn returns a figure in an object, we'll call it `ax`.  We can set properties of the figure by calling methods on `ax`.  Use this approach to set the x-axis limits to span (-300, 300), the y-axis limits to span (-100, 500)."
   ]
  },
  {
   "cell_type": "markdown",
   "metadata": {
    "deletable": false,
    "editable": false,
    "hideCode": false,
    "hidePrompt": false
   },
   "source": [
    "<!--\n",
    "BEGIN QUESTION\n",
    "name: q2a\n",
    "manual: false\n",
    "points: 5\n",
    "-->"
   ]
  },
  {
   "cell_type": "code",
   "execution_count": 37,
   "metadata": {
    "hideCode": false,
    "hidePrompt": false
   },
   "outputs": [],
   "source": [
    "%matplotlib inline\n",
    "import matplotlib.pyplot as plt\n",
    "import seaborn as sns\n",
    "\n",
    "plt.figure(figsize=[12, 11])\n",
    "ax = ...\n",
    "\n",
    "# Set x/y limits and labels\n",
    "...\n",
    "plt.show()"
   ]
  },
  {
   "cell_type": "markdown",
   "metadata": {
    "hideCode": false,
    "hidePrompt": false
   },
   "source": [
    "Understanding any dataset is difficult without context.  Lets add some important context by adding the relevant court lines into our diagram.  If you are interested, you can read more about the lines and dimensions on the [NBA basketball court](https://en.wikipedia.org/wiki/Basketball_court).  We will use code from [http://savvastjortjoglou.com/nba-shot-sharts.html](http://savvastjortjoglou.com/nba-shot-sharts.html) to add the court markings to our diagram.  The `draw_court` function below will do this for us.  The below cell will generate an example court."
   ]
  },
  {
   "cell_type": "code",
   "execution_count": 40,
   "metadata": {
    "hideCode": false,
    "hidePrompt": false
   },
   "outputs": [],
   "source": [
    "## code is from http://savvastjortjoglou.com/nba-shot-sharts.html\n",
    "def draw_court(ax=None, color='black', lw=1, outer_lines=False):\n",
    "    \n",
    "    from matplotlib.patches import Circle, Rectangle, Arc\n",
    "    from matplotlib.pyplot import gca\n",
    "    \n",
    "    # If an axes object isn't provided to plot onto, just get current one\n",
    "    if ax is None:\n",
    "        ax = gca()\n",
    "\n",
    "    # Create the various parts of an NBA basketball court\n",
    "\n",
    "    # Create the basketball hoop\n",
    "    # Diameter of a hoop is 18\" so it has a radius of 9\", which is a value\n",
    "    # 7.5 in our coordinate system\n",
    "    hoop = Circle((0, 0), radius=7.5, linewidth=lw, color=color, fill=False)\n",
    "\n",
    "    # Create backboard\n",
    "    backboard = Rectangle((-30, -7.5), 60, 0, linewidth=lw, color=color)\n",
    "\n",
    "    # The paint\n",
    "    # Create the outer box 0f the paint, width=16ft, height=19ft\n",
    "    outer_box = Rectangle((-80, -47.5), 160, 190, linewidth=lw, color=color,\n",
    "                          fill=False)\n",
    "    # Create the inner box of the paint, widt=12ft, height=19ft\n",
    "    inner_box = Rectangle((-60, -47.5), 120, 190, linewidth=lw, color=color,\n",
    "                          fill=False)\n",
    "\n",
    "    # Create free throw top arc\n",
    "    top_free_throw = Arc((0, 142.5), 120, 120, theta1=0, theta2=180,\n",
    "                         linewidth=lw, color=color, fill=False)\n",
    "    # Create free throw bottom arc\n",
    "    bottom_free_throw = Arc((0, 142.5), 120, 120, theta1=180, theta2=0,\n",
    "                            linewidth=lw, color=color, linestyle='dashed')\n",
    "    # Restricted Zone, it is an arc with 4ft radius from center of the hoop\n",
    "    restricted = Arc((0, 0), 80, 80, theta1=0, theta2=180, linewidth=lw,\n",
    "                     color=color)\n",
    "\n",
    "    # Three point line\n",
    "    # Create the side 3pt lines, they are 14ft long before they begin to arc\n",
    "    corner_three_a = Rectangle((-219, -47.5), 0, 140, linewidth=lw,\n",
    "                               color=color)\n",
    "    corner_three_b = Rectangle((219, -47.5), 0, 140, linewidth=lw, color=color)\n",
    "    # 3pt arc - center of arc will be the hoop, arc is 23'9\" away from hoop\n",
    "    # I just played around with the theta values until they lined up with the \n",
    "    # threes\n",
    "    three_arc = Arc((0, 0), 475, 475, theta1=22.5, theta2=157.5, linewidth=lw,\n",
    "                    color=color)\n",
    "\n",
    "    # Center Court\n",
    "    center_outer_arc = Arc((0, 422.5), 120, 120, theta1=180, theta2=0,\n",
    "                           linewidth=lw, color=color)\n",
    "    center_inner_arc = Arc((0, 422.5), 40, 40, theta1=180, theta2=0,\n",
    "                           linewidth=lw, color=color)\n",
    "\n",
    "    # List of the court elements to be plotted onto the axes\n",
    "    court_elements = [hoop, backboard, outer_box, inner_box, top_free_throw,\n",
    "                      bottom_free_throw, restricted, corner_three_a,\n",
    "                      corner_three_b, three_arc, center_outer_arc,\n",
    "                      center_inner_arc]\n",
    "\n",
    "    if outer_lines:\n",
    "        # Draw the half court line, baseline and side out bound lines\n",
    "        outer_lines = Rectangle((-250, -47.5), 500, 470, linewidth=lw,\n",
    "                                color=color, fill=False)\n",
    "        court_elements.append(outer_lines)\n",
    "\n",
    "    # Add the court elements onto the axes\n",
    "    for element in court_elements:\n",
    "        ax.add_patch(element)\n",
    "\n",
    "    return ax\n",
    "\n",
    "plt.figure(figsize=(12,11))\n",
    "draw_court(outer_lines=True)\n",
    "plt.xlim(-300,300)\n",
    "plt.ylim(-100,500)\n",
    "plt.show()"
   ]
  },
  {
   "cell_type": "markdown",
   "metadata": {
    "deletable": false,
    "editable": false,
    "hideCode": false,
    "hidePrompt": false
   },
   "source": [
    "### Question 2b: All Shots Scatter Plot + Court Outline\n",
    "\n",
    "Again use seaborn to make a scatter plot of Stephen Curry's shots. Again, set the x-axis limits to span (-300, 300), the y-axis limits to span (-100, 500) color the points by whether the shot was made or missed.  Set the missed shots to have an 'x' symbol and made shots to be a circular symbol. Call the `draw_court` function with `outer_lines` set to to be true. Save the `Axes` returned by the plot call in a variable called `ax`.\n",
    "\n",
    "<!--\n",
    "BEGIN QUESTION\n",
    "name: q2b1\n",
    "manual: true\n",
    "points: 4\n",
    "-->\n",
    "<!-- EXPORT TO PDF -->"
   ]
  },
  {
   "cell_type": "code",
   "execution_count": 41,
   "metadata": {
    "hideCode": false,
    "hidePrompt": false
   },
   "outputs": [],
   "source": [
    "plt.figure(figsize=(12, 11))\n",
    "markers = {0 : \"X\", 1 : \"o\"}\n",
    "ax = ...\n",
    "\n",
    "...\n",
    "plt.show()"
   ]
  },
  {
   "cell_type": "markdown",
   "metadata": {
    "deletable": false,
    "editable": false,
    "hideCode": false,
    "hidePrompt": false
   },
   "source": [
    "### Question 2c: Analyzing the Visualization\n",
    "<!--\n",
    "BEGIN QUESTION\n",
    "name: q2c\n",
    "manual: true\n",
    "points: 4\n",
    "-->\n",
    "\n",
    "In a few sentences, discuss what makes this an effective or ineffective visualization for understanding the types of shots that Stephen Curry likes to take and is good at taking, relative to other players in the league.  Are there ways it can be improved?\n",
    "<!-- EXPORT TO PDF -->"
   ]
  },
  {
   "cell_type": "markdown",
   "metadata": {
    "hideCode": false,
    "hidePrompt": false
   },
   "source": [
    "*Write your answer here, replacing this text.*"
   ]
  },
  {
   "cell_type": "markdown",
   "metadata": {
    "hideCode": false,
    "hidePrompt": false
   },
   "source": [
    "### Question 2d: A Hexbin plot\n",
    "\n",
    "Visualize Stephen Curry's shots by using a [hexbin plot with marginal histograms](https://seaborn.pydata.org/examples/hexbin_marginals.html). Also refer to setting [figure aesthetics](https://seaborn.pydata.org/tutorial/aesthetics.html) for what commands below do."
   ]
  },
  {
   "cell_type": "code",
   "execution_count": 42,
   "metadata": {
    "hideCode": false,
    "hidePrompt": false
   },
   "outputs": [],
   "source": [
    "sns.set_style(\"white\")\n",
    "joint_shot_chart = ...\n",
    "joint_shot_chart.fig.set_size_inches(12,11)\n",
    "\n",
    "# A joint plot has 3 Axes, the first one called ax_joint \n",
    "# is the one we want to draw our court onto and adjust some other settings\n",
    "ax = joint_shot_chart.ax_joint\n",
    "draw_court(ax, outer_lines=True)\n",
    "\n",
    "# Adjust the axis limits and orientation of the plot in order\n",
    "# to plot half court, with the hoop by the top of the plot\n",
    "ax.set_xlim(-300, 300)\n",
    "ax.set_ylim(500, -100)\n",
    "\n",
    "# Get rid of axis labels and tick marks\n",
    "ax.set_xlabel('')\n",
    "ax.set_ylabel('')\n",
    "ax.tick_params(labelbottom=False, labelleft=False)\n",
    "\n",
    "# Add a title\n",
    "ax.set_title('Stephen Curry, 2018-19, FGA', \n",
    "             y=1.2, fontsize=18)\n",
    "\n",
    "# Add Data Scource and Author\n",
    "ax.text(-250,445,'\\n This plot is based on code by Savvas Tjortjoglou (savvastjortjoglou.com)',\n",
    "        fontsize=12);"
   ]
  },
  {
   "cell_type": "markdown",
   "metadata": {
    "hideCode": false,
    "hidePrompt": false
   },
   "source": [
    "## Question 3: Analyzing Shots from All Players"
   ]
  },
  {
   "cell_type": "markdown",
   "metadata": {
    "deletable": false,
    "editable": false,
    "hideCode": false,
    "hidePrompt": false
   },
   "source": [
    "### Question 3a: Shot Type Average\n",
    "\n",
    "From all shots taken in 2018-2019, create a DataFrame `shot_counts` of attempted shots in each zone range and area combination (in that order). Then, calculate the fraction of shots taken from range `24+ ft.` in the `Center(C)` shot area.\n",
    "\n",
    "<!--\n",
    "BEGIN QUESTION\n",
    "name: q3a\n",
    "manual: false\n",
    "points: 4\n",
    "-->"
   ]
  },
  {
   "cell_type": "code",
   "execution_count": 43,
   "metadata": {
    "hideCode": false,
    "hidePrompt": false
   },
   "outputs": [],
   "source": [
    "shot_counts = ...\n",
    "...\n",
    "frac_center24 = ..."
   ]
  },
  {
   "cell_type": "markdown",
   "metadata": {
    "deletable": false,
    "editable": false
   },
   "source": [
    "<!--\n",
    "BEGIN QUESTION\n",
    "name: q3a_hidden\n",
    "manual: false\n",
    "points: 2\n",
    "-->"
   ]
  },
  {
   "cell_type": "code",
   "execution_count": 46,
   "metadata": {},
   "outputs": [],
   "source": [
    "# leave blank"
   ]
  },
  {
   "cell_type": "markdown",
   "metadata": {
    "deletable": false,
    "editable": false,
    "hideCode": false,
    "hidePrompt": false
   },
   "source": [
    "### Question 3b: How Many Shots do Players Shoot?\n",
    "\n",
    "Using `sns.distplot()`, make a histogram of the number of total shots taken per player for all players **with 15 bins**.  Label the x-axis appropriately, set the color of the bars to `green`.\n",
    "\n",
    "<!--\n",
    "BEGIN QUESTION\n",
    "name: q3b1\n",
    "manual: true\n",
    "points: 3\n",
    "-->\n",
    "<!-- EXPORT TO PDF -->"
   ]
  },
  {
   "cell_type": "code",
   "execution_count": 48,
   "metadata": {
    "hideCode": false,
    "hidePrompt": false
   },
   "outputs": [],
   "source": [
    "..."
   ]
  },
  {
   "cell_type": "markdown",
   "metadata": {
    "deletable": false,
    "editable": false,
    "hideCode": false,
    "hidePrompt": false
   },
   "source": [
    "<!--\n",
    "BEGIN QUESTION\n",
    "name: q3b2\n",
    "manual: true\n",
    "points: 3\n",
    "-->\n",
    "What do you observe about the distribution of shot attempts in the NBA across all players? Why might this be? Discuss in 1-3 sentences below.\n",
    "<!-- EXPORT TO PDF -->"
   ]
  },
  {
   "cell_type": "markdown",
   "metadata": {
    "hideCode": false,
    "hidePrompt": false
   },
   "source": [
    "*Write your answer here, replacing this text.*"
   ]
  },
  {
   "cell_type": "markdown",
   "metadata": {
    "hideCode": false,
    "hidePrompt": false
   },
   "source": [
    "## Question 4: Binning and Smoothing Shots\n",
    "\n",
    "So far, in we have worked with dataframes which represent each shot as a single observation (row) within the dataset.  However, this isn't a convenient data structure for the kinds of spatial analyses we will puruse below.  In this part, we will divide the court into square regions and create a matrix which includes the number of shots taken by a player in that region.  We divide the court up into square bins (e.g. a 2d histogram), and, for each player, count number of shots that fall into each bin. Fortunately, this function is relatively simple to write using existing `numpy` functions. "
   ]
  },
  {
   "cell_type": "markdown",
   "metadata": {
    "deletable": false,
    "editable": false,
    "hideCode": false,
    "hidePrompt": false
   },
   "source": [
    "### Question 4a: 2D Smoothing\n",
    "\n",
    "Fill in the `bin_shots` function below. Use `np.histgram2d` to count count the shots in each bin.  The bins are defined `bin_edges` which is a pandas Series of the form `(xedges, yedges)`.  If `density = True`, call `ndimage.filters.gaussian_filter` on the result of `np.histogram2d` with smoothing parameter `sigma`.  This will create a smoothed version of the raw data histograms.\n",
    "\n",
    "<!--\n",
    "BEGIN QUESTION\n",
    "name: q4a\n",
    "manual: false\n",
    "points: 2\n",
    "-->"
   ]
  },
  {
   "cell_type": "code",
   "execution_count": 49,
   "metadata": {
    "hideCode": false,
    "hidePrompt": false
   },
   "outputs": [],
   "source": [
    "def bin_shots(df, bin_edges, density=False, sigma=1):\n",
    "    \n",
    "    \"\"\"Given data frame of shots, compute a 2d matrix of binned counts is computed\n",
    "    \n",
    "    Args:\n",
    "        df: data frame of shotchartdetail from nba.com. \n",
    "            At the minimum, variables named LOCX and LOCY are required.\n",
    "        bin_edges: bin edge definition: edges in x and edges in y\n",
    "    \n",
    "    Returns:\n",
    "        binned: counts\n",
    "        xedges: bin edges in X direction\n",
    "        yedges: bin edges in Y direction\n",
    "    \"\"\"\n",
    "    import numpy as np\n",
    "    from scipy import ndimage\n",
    "    \n",
    "    ## Call np.histogram2d\n",
    "    ...\n",
    "    \n",
    "    if density:\n",
    "\n",
    "        # Recompute 'binned' using \"gaussian_filter\"\n",
    "        binned = ...\n",
    "        \n",
    "        # Normalize the histogram to be a \"density\", e.g. mass across all bins sums to 1.\n",
    "        binned /= np.sum(binned)\n",
    "    \n",
    "    return(binned, xedges, yedges)\n"
   ]
  },
  {
   "cell_type": "markdown",
   "metadata": {
    "hideCode": false,
    "hidePrompt": false
   },
   "source": [
    "### Question 4b: Visualize the binning on `curry_data`\n",
    "\n",
    "Call `bin_shots` on `curry_data` to create a binned but unsmoothed matrix of shot counts (call this `curry_binned_unsmoothed`), a binned and smoothed matrix of counts with `sigma=1` (call this `curry_binned_smoothed1`) and one with `sigma=5` (call this `curry_binned_smoothed5`). Use the bin edges defined below:"
   ]
  },
  {
   "cell_type": "code",
   "execution_count": 54,
   "metadata": {
    "hideCode": false,
    "hidePrompt": false
   },
   "outputs": [],
   "source": [
    "## bin edge definitions in inches\n",
    "xedges = np.linspace(start=-300, stop=300, num=151)\n",
    "yedges = np.linspace(start=-48, stop=372, num=106)"
   ]
  },
  {
   "cell_type": "code",
   "execution_count": 55,
   "metadata": {
    "hideCode": false,
    "hidePrompt": false
   },
   "outputs": [],
   "source": [
    "bin_edges = (xedges, yedges)\n",
    "\n",
    "# curry_binned_unsmoothed, xe, ye = ... \n",
    "# curry_binned_smoothed1,  xe, ye = ... \n",
    "# curry_binned_smoothed5,  xe, ye = ... \n",
    "..."
   ]
  },
  {
   "cell_type": "markdown",
   "metadata": {
    "hideCode": false,
    "hidePrompt": false
   },
   "source": [
    "The function below can be used to visualize the shots as a heatmap:"
   ]
  },
  {
   "cell_type": "code",
   "execution_count": 56,
   "metadata": {
    "hideCode": false,
    "hidePrompt": false
   },
   "outputs": [],
   "source": [
    "def plot_shotchart(binned_counts, xedges, yedges, ax=None, use_log=False, cmap = 'Reds'):\n",
    "    \n",
    "    \"\"\"Plots 2d heatmap from vectorized heatmap counts\n",
    "    \n",
    "    Args:\n",
    "        hist_counts: vectorized output of numpy.histogram2d\n",
    "        xedges, yedges: bin edges in arrays\n",
    "        ax: figure axes [None]\n",
    "        use_log: will convert count x to log(x+1) to increase visibility [False]\n",
    "        cmap: Set the color map https://matplotlib.org/examples/color/colormaps_reference.html\n",
    "    Returns:\n",
    "        ax: axes with plot\n",
    "    \"\"\"\n",
    "    \n",
    "    import numpy as np\n",
    "    import matplotlib.pyplot as plt\n",
    "    \n",
    "    ## number of x and y bins.  \n",
    "    nx = xedges.size - 1\n",
    "    ny = yedges.size - 1\n",
    "\n",
    "    X, Y = np.meshgrid(xedges, yedges)\n",
    "    \n",
    "    if use_log:\n",
    "        counts = np.log(binned_counts + 1)\n",
    "        \n",
    "    if ax is None:\n",
    "        fig, ax = plt.subplots(1,1)\n",
    "    \n",
    "    ax.pcolormesh(X, Y, binned_counts.T, cmap=cmap) \n",
    "    ax.set_aspect('equal')\n",
    "    \n",
    "    draw_court(ax)\n",
    "    \n",
    "    return(ax)"
   ]
  },
  {
   "cell_type": "markdown",
   "metadata": {
    "hideCode": false,
    "hidePrompt": false
   },
   "source": [
    "Create 3 side by side plots of `curry_binned_unsmoothed`, `curry_binned_smoothed1` and `curry_binned_smoothed5`"
   ]
  },
  {
   "cell_type": "markdown",
   "metadata": {
    "deletable": false,
    "editable": false,
    "hideCode": false,
    "hidePrompt": false
   },
   "source": [
    "<!--\n",
    "BEGIN QUESTION\n",
    "name: q4b\n",
    "manual: true\n",
    "points: 5\n",
    "-->\n",
    "<!-- EXPORT TO PDF -->"
   ]
  },
  {
   "cell_type": "code",
   "execution_count": 57,
   "metadata": {
    "hideCode": false,
    "hidePrompt": false
   },
   "outputs": [],
   "source": [
    "fig, ax = plt.subplots(1, 3, figsize=(20,60))\n",
    "\n",
    "...\n",
    "fig.show()"
   ]
  },
  {
   "cell_type": "markdown",
   "metadata": {
    "hideCode": false,
    "hidePrompt": false
   },
   "source": [
    "### Vectorizing Shot Images"
   ]
  },
  {
   "cell_type": "markdown",
   "metadata": {
    "hideCode": false,
    "hidePrompt": false
   },
   "source": [
    "- Here we proceed create a dictionary of smoothed patterns, each vectorized into a 1-d array. \n",
    "- In this case, the object `all_smooth` is a dictionary that consists of arrays of length `15750`. \n",
    "- Each entry in `all_smooth` represents the smoothed frequency of shots along the bins generated in the code above for a given player."
   ]
  },
  {
   "cell_type": "code",
   "execution_count": 58,
   "metadata": {
    "hideCode": false,
    "hidePrompt": false
   },
   "outputs": [],
   "source": [
    "## number of bins is one less than number of edges (remember homework 1)\n",
    "nx = xedges.size - 1\n",
    "ny = yedges.size - 1\n",
    "\n",
    "## 2d histogram containers for binned counts and smoothed binned counts\n",
    "all_counts = []\n",
    "all_smooth = []\n",
    "pids = []\n",
    "\n",
    "## 2d histogram containers for binned counts and smoothed binned counts\n",
    "\n",
    "## data matrix: players (row) by vectorized 2-d court locations (column)\n",
    "for i, one in enumerate(allshots.groupby('PLAYER_ID')):\n",
    "    \n",
    "    ## what does this line do?\n",
    "    pid, pdf = one\n",
    "        \n",
    "    num_shots = len(pdf.index)\n",
    "    if(num_shots > 100): \n",
    "        \n",
    "        tmp1, xedges, yedges = bin_shots(pdf, bin_edges=(xedges, yedges), density=True, sigma=2)\n",
    "        tmp2, xedges, yedges = bin_shots(pdf, bin_edges=(xedges, yedges), density=False)\n",
    "    \n",
    "        ## vectorize and store into list\n",
    "        all_smooth += [tmp1.reshape(-1)]\n",
    "        all_counts += [tmp2.reshape(-1)]\n",
    "        pids += [pid]\n",
    "        \n",
    "X = np.vstack(all_smooth).T\n",
    "p, n = X.shape\n",
    "\n",
    "print('Number of shot regions (p):', p)\n",
    "print('Number of players (n):', n)"
   ]
  },
  {
   "cell_type": "markdown",
   "metadata": {
    "hideCode": false,
    "hidePrompt": false
   },
   "source": [
    "## Question 5: Non-negative Matrix Factorization (NMF) \n",
    "\n",
    "The non-negative matrix factorization is a dimension reduction technique that is often applied to image data.  It is similar to PCA except that is only applicable for strictly positive data.  We can apply the NMF to vectorized versions of the shot surface. This is useful because we can convert the observed matrix of shot surfaces into:\n",
    "* Bases: Identifying modes of shooting style (number of modes is determined by `n_components` argument to `NMF` function below)\n",
    "* Coefficients: How each players shooting style could be expressed as a (positive) linear combination of these bases\n",
    "\n",
    "The NMF solves the following problem: given some matrix $X$ is $p\\times n$ matrix, NMF computes the following factorization:\n",
    "$$ \\min_{W,H} \\| X - WH \\|_F\\\\\n",
    "\\text{ subject to } W\\geq 0,\\ H\\geq 0, $$\n",
    "where $W$ is ${p\\times r}$ matrix and $H$ is ${r\\times n}$ matrix.\n",
    "\n",
    "In this homework, we have the following:\n",
    " \n",
    "#### The data matrix $X$ \n",
    "$X$ is of dimension $n$={number of players} and $p$={number of total square bins on the court}. Each column corresponds to a player, with entries corresponding to a \"flattened\" or \"vectorized\" version of the 2d histograms plotted in part 4b.\n",
    "\n",
    "#### Bases matrix: $W$\n",
    "\n",
    "Columns $W_i$ contain the shot \"bases\". First, we will try it with $r=3$ bins in 5a, and then with $r=10$ bins in 5d.\n",
    "\n",
    "#### Coefficient matrix: H\n",
    "\n",
    "Each column of $H$ gives a coefficient for each of the bases vectors in $W$, and there are $n$ columns for each player.\n",
    "\n",
    "\n",
    "The `sklearn` library is one of the main Python machine learning libraries.  It has a built in NMF function for us.  The function below runs this function and normalizes the basis surfaces to sum to 1."
   ]
  },
  {
   "cell_type": "code",
   "execution_count": 59,
   "metadata": {
    "hideCode": false,
    "hidePrompt": false
   },
   "outputs": [],
   "source": [
    "## Non-negative Matrix Factorization\n",
    "def non_negative_marix_decomp(n_components, array_data):\n",
    "    import sklearn.decomposition as skld\n",
    "    model = skld.NMF(n_components=n_components, init='nndsvda', max_iter=500, random_state=0)\n",
    "    W = model.fit_transform(array_data)\n",
    "    \n",
    "    # Normalize basis vectors to sum to 1\n",
    "    Wsum = W.sum(axis=0)\n",
    "    W = W/Wsum\n",
    "    \n",
    "    ## fix H correspondingly\n",
    "    H = model.components_\n",
    "    H = (H.T * Wsum).T\n",
    "\n",
    "    nmf = (W, H)\n",
    "    return(nmf)"
   ]
  },
  {
   "cell_type": "markdown",
   "metadata": {
    "deletable": false,
    "editable": false,
    "hideCode": false,
    "hidePrompt": false
   },
   "source": [
    "### Question 5a: Computing NMF Factorization\n",
    "\n",
    "Compute the NMF on all player's shot charts, X, assuming with `n_components` = 3 (i.e. each shot chart can be represented as a positive linear combination of 3 \"basis\" shot charts).  Fill in `plot_vectorized_shot_chart`.  This takes a the a vector of binned shot counts, converts it back to a matrix of the appropriate size and then calls `plot_shotchart` on the matrix.  The numpy function `reshape` will be useful here: [https://docs.scipy.org/doc/numpy/reference/generated/numpy.reshape.html](https://docs.scipy.org/doc/numpy/reference/generated/numpy.reshape.html)\n",
    "\n",
    "<!--\n",
    "BEGIN QUESTION\n",
    "name: q5a\n",
    "manual: false\n",
    "points: 5\n",
    "-->"
   ]
  },
  {
   "cell_type": "code",
   "execution_count": 60,
   "metadata": {
    "hideCode": false,
    "hidePrompt": false
   },
   "outputs": [],
   "source": [
    "# W3, H3 = ...\n",
    "..."
   ]
  },
  {
   "cell_type": "markdown",
   "metadata": {
    "deletable": false,
    "editable": false
   },
   "source": [
    "<!--\n",
    "BEGIN QUESTION\n",
    "name: q5a_hidden\n",
    "manual: false\n",
    "points: 2\n",
    "-->"
   ]
  },
  {
   "cell_type": "code",
   "execution_count": 64,
   "metadata": {},
   "outputs": [],
   "source": [
    "# leave blank"
   ]
  },
  {
   "cell_type": "markdown",
   "metadata": {
    "deletable": false,
    "editable": false,
    "hideCode": false,
    "hidePrompt": false
   },
   "source": [
    "### Question 5b: Visualizing Shot Types\n",
    "\n",
    "Plot the first three basis images by calling `plot_vectorized_shot_chart` below on the columns of `W3`.\n",
    "\n",
    "<!--\n",
    "BEGIN QUESTION\n",
    "name: q5b\n",
    "manual: true\n",
    "points: 5\n",
    "-->\n",
    "<!-- EXPORT TO PDF -->"
   ]
  },
  {
   "cell_type": "code",
   "execution_count": 66,
   "metadata": {
    "hideCode": false,
    "hidePrompt": false
   },
   "outputs": [],
   "source": [
    "def plot_vectorized_shotchart(vec_counts, xedges, yedges, ax=None, use_log=False, cmap = 'Reds'):\n",
    "    \n",
    "    \"\"\"Plots 2d heatmap from vectorized heatmap counts\n",
    "    \n",
    "    Args:\n",
    "        hist_counts: vectorized output of numpy.histogram2d\n",
    "        xedges, yedges: bin edges in arrays\n",
    "        ax: figure axes [None]\n",
    "        use_log: will convert count x to log(x+1) to increase visibility [False]\n",
    "        cmap: Set the color map https://matplotlib.org/examples/color/colormaps_reference.html\n",
    "    Returns:\n",
    "        ax: axes with plot\n",
    "    \"\"\"\n",
    "\n",
    "    nx = ...\n",
    "    ny = ...\n",
    "    \n",
    "    # use reshape to convert a vectorized counts back into a 2d histogram\n",
    "    two_d_counts = ...\n",
    "    \n",
    "    return(plot_shotchart(two_d_counts, xedges, yedges, ax=ax, use_log=use_log, cmap=cmap))\n",
    "\n",
    "fig, ax = plt.subplots(1, 3, figsize=(20,60))\n",
    "\n",
    "## Write a for loop\n",
    "for i in range(3):\n",
    "    # Call plot_vectorized_shot_chart\n",
    "    ax[i].set_title('Shot Basis %i' % (i+1))"
   ]
  },
  {
   "cell_type": "markdown",
   "metadata": {
    "deletable": false,
    "editable": false,
    "hideCode": false,
    "hidePrompt": false
   },
   "source": [
    "### Question 5c: Reconstruction Error\n",
    "\n",
    "Below we re-construct the shooting pattern for a single player. By \"reconstructing\" we mean use the approximation $$\\hat{X} = WH$$ obtained via NMF.  Find $\\hat X$ by multipling W and H.  In python the `@` symbol is used for matrix multiplication.\n",
    "\n",
    "<!--\n",
    "BEGIN QUESTION\n",
    "name: q5c\n",
    "manual: true\n",
    "points: 5\n",
    "-->\n",
    "<!-- EXPORT TO PDF -->"
   ]
  },
  {
   "cell_type": "code",
   "execution_count": 67,
   "metadata": {
    "hideCode": false,
    "hidePrompt": false
   },
   "outputs": [],
   "source": [
    "X3_hat = ..."
   ]
  },
  {
   "cell_type": "markdown",
   "metadata": {
    "hideCode": false,
    "hidePrompt": false
   },
   "source": [
    "Plot $X$, $\\hat X$ and the residual ($X - \\hat X$) for the player named LaMarcus Aldridge. Remember, each column of $X$ is a vectorized matrix corresponding to the binned (or smoothed binned) shot information."
   ]
  },
  {
   "cell_type": "code",
   "execution_count": 68,
   "metadata": {
    "hideCode": false,
    "hidePrompt": false
   },
   "outputs": [],
   "source": [
    "# Find the player_id of LaMarcus Aldridge\n",
    "player_id = ...\n",
    "\n",
    "## find index in X corresponding to that player\n",
    "to_plot_idx = np.where(pids == player_id)[0][0]\n",
    "\n",
    "fig, ax = plt.subplots(1, 3, figsize=(20,60))\n",
    "\n",
    "## Call plot_vectorized_shot_chart\n",
    "original_shotchart = ...\n",
    "reconstructed_shotchart = ...\n",
    "residual_chart = ...\n",
    "\n",
    "# print(max(abs(X3_hat[:, to_plot_idx] - X[:, to_plot_idx])))\n",
    "ax[0].set_title('Original Shooting Pattern')\n",
    "ax[1].set_title('Reconstructed Shooting pattern (r=3)')\n",
    "ax[2].set_title('Residual Shooting Pattern (r=3)')\n",
    "fig.show()"
   ]
  },
  {
   "cell_type": "markdown",
   "metadata": {
    "deletable": false,
    "editable": false,
    "hideCode": false,
    "hidePrompt": false
   },
   "source": [
    "### Question 5d: Choice of Colormap\n",
    "\n",
    "Why does it make sense to use a _sequential_ palette for the original and reconstructed shot charts and a _diverging_ palette for the residual?  _Hint:_ Read the introduction to colormaps [here](https://matplotlib.org/users/colormaps.html). \n",
    "\n",
    "\n",
    "<!--\n",
    "BEGIN QUESTION\n",
    "name: q5d\n",
    "manual: true\n",
    "points: 3\n",
    "-->\n",
    "<!-- EXPORT TO PDF -->"
   ]
  },
  {
   "cell_type": "markdown",
   "metadata": {
    "hideCode": false,
    "hidePrompt": false
   },
   "source": [
    "*Write your answer here, replacing this text.*"
   ]
  },
  {
   "cell_type": "markdown",
   "metadata": {
    "hideCode": false,
    "hidePrompt": false
   },
   "source": [
    "What areas of the court does this player to shoot more and where less relative to the reconstructed area.  If its helpful, you can refer to court locations by name using this legend [here](https://en.wikipedia.org/wiki/Basketball_court#/media/File:Basketball_terms.png])."
   ]
  },
  {
   "cell_type": "markdown",
   "metadata": {
    "hideCode": false,
    "hidePrompt": false
   },
   "source": [
    "*Write your answer here, replacing this text.*"
   ]
  },
  {
   "cell_type": "markdown",
   "metadata": {
    "deletable": false,
    "editable": false,
    "hideCode": false,
    "hidePrompt": false
   },
   "source": [
    "### Question 5e: More Detailed Modeling\n",
    "\n",
    "Re-run the analysis, this time for 10 basis vectors instead of 3.  Again plot the bases using `plot_vectorized_shotchart` on the columns of `W10`.\n",
    "\n",
    "<!--\n",
    "BEGIN QUESTION\n",
    "name: q5e1\n",
    "manual: true\n",
    "points: 3\n",
    "-->\n",
    "<!-- EXPORT TO PDF -->"
   ]
  },
  {
   "cell_type": "code",
   "execution_count": 69,
   "metadata": {
    "hideCode": false,
    "hidePrompt": false
   },
   "outputs": [],
   "source": [
    "...\n",
    "\n",
    "fig, ax = plt.subplots(2, 5, figsize=(20, 7))\n",
    "\n",
    "## Write a for loop\n",
    "for i in range(10):\n",
    "    ...\n",
    "    ax[i//5, i % 5].set_title('Shot Basis %i' % (i+1))\n"
   ]
  },
  {
   "cell_type": "markdown",
   "metadata": {
    "deletable": false,
    "editable": false,
    "hideCode": false,
    "hidePrompt": false
   },
   "source": [
    "If you did things correctly, you should be really impressed! We've identified potentially interesting patterns of shooting styles without actually specifying anything about the way basketball is played or where the relevant lines are on the court.  The resulting images are based only on the actual behavior of the players.  Even more impressive is that we're capturing similarity in regions that are far apart on the court.  One reason we can do this is that a basketball court is symmetric along the length of the court (i.e. symmetric about x=0).  However, people tend to be left or right hand dominant, which might affect their preferences.  Look carefuly at the shot basis plots above: is there any evidence of _asymmetry_ in player shooting behavior?  Refer to specific basis images in your answer.    \n",
    "\n",
    "\n",
    "<!--\n",
    "BEGIN QUESTION\n",
    "name: q5e2\n",
    "manual: true\n",
    "points: 3\n",
    "-->\n",
    "<!-- EXPORT TO PDF -->"
   ]
  },
  {
   "cell_type": "markdown",
   "metadata": {
    "hideCode": false,
    "hidePrompt": false
   },
   "source": [
    "*Write your answer here, replacing this text.*"
   ]
  },
  {
   "cell_type": "markdown",
   "metadata": {
    "deletable": false,
    "editable": false,
    "hideCode": false,
    "hidePrompt": false
   },
   "source": [
    "Repeat part 5b, and again plot original, reconstructed and residual shot chats for LaMarcus Aldridge.\n",
    "\n",
    "\n",
    "<!--\n",
    "BEGIN QUESTION\n",
    "name: q5e3\n",
    "manual: true\n",
    "points: 3\n",
    "-->\n",
    "<!-- EXPORT TO PDF -->"
   ]
  },
  {
   "cell_type": "code",
   "execution_count": 70,
   "metadata": {
    "hideCode": false,
    "hidePrompt": false
   },
   "outputs": [],
   "source": [
    "X10_hat = ...\n",
    "\n",
    "fig, ax = plt.subplots(1, 3, figsize=(20,60))\n",
    "\n",
    "# I took the first player appearing in first column \n",
    "# (you probably want to do more interesting players)\n",
    "original_shotchart = ...\n",
    "reconstructed_shotchart = ...\n",
    "residual_chart = ...\n",
    "\n",
    "ax[0].set_title('Original Shooting Pattern')\n",
    "ax[1].set_title('Reconstructed Shooting pattern (r=10)')\n",
    "ax[2].set_title('Residual Shooting Pattern (r=10)');"
   ]
  },
  {
   "cell_type": "markdown",
   "metadata": {
    "deletable": false,
    "editable": false
   },
   "source": [
    "### Question 5f: Comparing Players \n",
    "\n",
    "With `H10` matrix, it is possible to compare any pair of players. For all players pairwise, $i$ and $j$, compare using euclidean distance between their coefficients:\n",
    "\n",
    "$$ \\text{player-distance}(i,j) = \\| H_i - H_j \\|_2 = \\left(\\sum_{k=1}^{10} (H_{ki} - H_{kj})^2 \\right)^{1/2} $$\n",
    "\n",
    "Create a heatmap for comparing pair-wise player distance matrix. Find the two pairs of players with smallest distances. Also, find two pairs of players with largest distances.\n",
    "\n",
    "<!--\n",
    "BEGIN QUESTION\n",
    "name: q5f\n",
    "manual: true\n",
    "points: 10\n",
    "-->\n",
    "<!-- EXPORT TO PDF -->"
   ]
  },
  {
   "cell_type": "markdown",
   "metadata": {},
   "source": [
    "*Write your answer here, replacing this text.*"
   ]
  },
  {
   "cell_type": "markdown",
   "metadata": {
    "deletable": false,
    "editable": false
   },
   "source": [
    "### Question 5g: Residuals\n",
    "\n",
    "The residual betwene `Xhat` and `X` gives a sense of how well a player is decribed by NMF computed matrices `W` and `H`. Calculate RMSE for each player, and plot the histogram. Comment on this distribution and players with smallest and largest RMSEs.\n",
    "\n",
    "<!--\n",
    "BEGIN QUESTION\n",
    "name: q5g\n",
    "manual: true\n",
    "points: 10\n",
    "-->\n",
    "<!-- EXPORT TO PDF -->"
   ]
  },
  {
   "cell_type": "markdown",
   "metadata": {},
   "source": [
    "*Write your answer here, replacing this text.*"
   ]
  },
  {
   "cell_type": "markdown",
   "metadata": {
    "deletable": false,
    "editable": false,
    "hideCode": false,
    "hidePrompt": false
   },
   "source": [
    "### Question 5h: Proposing improvements\n",
    "\n",
    "One of the main purposes of exploratory data analysis is to generate new ideas, directions, and hypothesis for future analyses and experiments. Take two players of your choice and compare their shooting patterns with various visualizations.\n",
    "\n",
    "State any insights and defend your conclusions with visual and/or numerical comparisons.\n",
    "\n",
    "<!--\n",
    "BEGIN QUESTION\n",
    "name: q5h\n",
    "manual: true\n",
    "points: 10\n",
    "-->\n",
    "<!-- EXPORT TO PDF -->"
   ]
  },
  {
   "cell_type": "markdown",
   "metadata": {
    "hideCode": false,
    "hidePrompt": false
   },
   "source": [
    "*Write your answer here, replacing this text.*"
   ]
  },
  {
   "cell_type": "markdown",
   "metadata": {
    "deletable": false,
    "editable": false
   },
   "source": [
    "# Running Built-in Tests\n",
    "1. All tests are in `tests` directory\n",
    "1. Each python file in `tests` is a test\n",
    "1. `grader.check('testname')` runs test `'testname'`, e.g. `'q1'`\n",
    "1. `grader.check_all()` runs all visible tests"
   ]
  },
  {
   "cell_type": "code",
   "execution_count": null,
   "metadata": {
    "deletable": false,
    "editable": false
   },
   "outputs": [],
   "source": [
    "# Run built-in checks\n",
    "grader.check_all()"
   ]
  },
  {
   "cell_type": "code",
   "execution_count": null,
   "metadata": {},
   "outputs": [],
   "source": [
    "# Uncomment to generate pdf in classic notebook (does not work in JupyterLab):\n",
    "# import nb2pdf\n",
    "# nb2pdf.convert('assignment3.ipynb')\n",
    "\n",
    "# Uncomment to generate pdf using command-line tool:\n",
    "# ! nb2pdf assignment3.ipynb"
   ]
  },
  {
   "cell_type": "markdown",
   "metadata": {
    "deletable": false,
    "editable": false
   },
   "source": [
    "# Submission Checklist\n",
    "1. Check filename is `assignment3.ipynb`\n",
    "1. Save file to confirm all changes are on disk\n",
    "1. Run *Kernel > Restart & Run All* to execute all code from top to bottom\n",
    "1. Check `grader.check_all()` output\n",
    "1. Save file again to write any new output to disk\n",
    "1. Check generated pdf that all responses are displayed correctly\n",
    "1. Submit `assignment3.ipynb` and `assignment3.pdf` to Gradescope"
   ]
  }
 ],
 "metadata": {
  "hide_code_all_hidden": false,
  "kernelspec": {
   "display_name": "Python 3",
   "language": "python",
   "name": "python3"
  },
  "language_info": {
   "codemirror_mode": {
    "name": "ipython",
    "version": 3
   },
   "file_extension": ".py",
   "mimetype": "text/x-python",
   "name": "python",
   "nbconvert_exporter": "python",
   "pygments_lexer": "ipython3",
   "version": "3.7.6"
  },
  "toc": {
   "base_numbering": 1,
   "nav_menu": {},
   "number_sections": true,
   "sideBar": true,
   "skip_h1_title": false,
   "title_cell": "Table of Contents",
   "title_sidebar": "Contents",
   "toc_cell": false,
   "toc_position": {},
   "toc_section_display": true,
   "toc_window_display": false
  }
 },
 "nbformat": 4,
 "nbformat_minor": 4
}
