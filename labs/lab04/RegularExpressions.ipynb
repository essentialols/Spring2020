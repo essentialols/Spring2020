{
 "cells": [
  {
   "cell_type": "markdown",
   "metadata": {},
   "source": [
    "Session: Spring 2020\n",
    "\n",
    "Author      : Mayuresh Anand \n",
    "\n",
    "Last updated: April 22 2020 "
   ]
  },
  {
   "cell_type": "markdown",
   "metadata": {},
   "source": [
    "# Regular Expresstion\n",
    "\n",
    "* [Wiki Link](https://en.wikipedia.org/wiki/Regular_expression)\n",
    "* [Google For Education](https://developers.google.com/edu/python/regular-expressions)\n",
    "* [W3School Link](https://www.w3schools.com/python/python_regex.asp)\n",
    "\n",
    "[R-Markdown Link](https://github.com/adam-p/markdown-here/wiki/Markdown-Cheatsheet#tables)"
   ]
  },
  {
   "cell_type": "markdown",
   "metadata": {},
   "source": [
    "A regular expression (shortened as regex or regexp; also referred to as rational expression)is a sequence of characters that define a search pattern. Usually such patterns are used by string searching algorithms for \"find\" or \"find and replace\" operations on strings, or for input validation. It is a technique developed in theoretical computer science and formal language theory."
   ]
  },
  {
   "cell_type": "markdown",
   "metadata": {},
   "source": [
    "RegEx Functions\n",
    "\n",
    "The re module offers a set of functions that allows us to search a string for a match:\n",
    "\n",
    "| Function      | Description                                                            |\n",
    "| :------------- | :-------------------------------------------------------------------- |\n",
    "| findall       | Returns a list containing all matches                                  |\n",
    "| search        | Returns a Match object if there is a match anywhere in the string      |\n",
    "| split         | Returns a list where the string has been split at each match           |\n",
    "| sub \t        | Replaces one or many matches with a string                             |\n",
    "| match\t        | Matches first word of the string only                                  |"
   ]
  },
  {
   "cell_type": "markdown",
   "metadata": {},
   "source": [
    "Oridinary characters match themselves exactly but metacharacters do not match themselves because they have special meaning.\n",
    "\n",
    "**Metacharacters**\n",
    "\n",
    "Metacharacters are characters with a special meaning:\n",
    "\n",
    "|Character | Description                                                               |Example       |\n",
    "|:-------- |:--------------------------------------------------------------------------|:------------ |\n",
    "|[]        |A set of characters                                                        |\"[a-m]\"       |\n",
    "|\\\\        |Signals a special sequence (can also be used to escape special characters) |\"\\d\"          |\n",
    "|.         |Any character (except newline character)                                   |\"he..o\"       |\n",
    "|^         |Starts with                                                                |\"^hello\"      |\n",
    "|\\$         |Ends with                                                                  |\"world$\"      |\n",
    "|*         |Zero or more occurrences                                                   |\"aix*\"        |\n",
    "|+         |One or more occurrences                                                    |\"aix+\"        |\n",
    "|{}        |Exactly the specified number of occurrences                                |\"al{2}\"       |\n",
    "|\\|        |Either or                                                                  |\"falls\\|stays\" |\n",
    "|()        |Capture and group                                                          |              |"
   ]
  },
  {
   "cell_type": "markdown",
   "metadata": {},
   "source": [
    "**Special Sequences**\n",
    "\n",
    "A special sequence is a \\ followed by one of the characters in the list below, and has a special meaning:\n",
    "\n",
    "|Character |\tDescription                                                                     |\tExample \t|\n",
    "|:---------|:-----------------------------------------------------------------------------------|:--------------|\n",
    "|\\A        | \tReturns a match if the specified characters are at the beginning of the string \t|\"\\AThe\"| \t\n",
    "|\\b        | \tReturns a match where the specified characters are at the beginning or at the end of a word (the \"r\" in the beginning is making sure that the string is being treated as a \"raw string\") \t|r\"\\bain\" r\"ain\\b\"| \n",
    "|\\B        | \tReturns a match where the specified characters are present, but NOT at the beginning (or at the end) of a word (the \"r\" in the beginning is making sure that the string is being treated as a \"raw string\") \t|r\"\\Bain\" r\"ain\\B\" |\t\n",
    "|\\d        | \tReturns a match where the string contains digits (numbers from 0-9) \t        s|\"\\d\" \t|\n",
    "|\\D        | \tReturns a match where the string DOES NOT contain digits \t|\"\\D\" \t|\n",
    "|\\s        | \tReturns a match where the string contains a white space character \t|\"\\s\" \t|\n",
    "|\\S        | \tReturns a match where the string DOES NOT contain a white space character \t|\"\\S\" \t|\n",
    "|\\w        | \tReturns a match where the string contains any word characters (characters from a to Z, digits from 0-9, and the underscore _ character) \t|\"\\w\" \t|\n",
    "|\\W        | \tReturns a match where the string DOES NOT contain any word characters \t|\"\\W\" \t|\n",
    "|\\Z        | \tReturns a match if the specified characters are at the end of the string \t|\"Spain\\Z |"
   ]
  },
  {
   "cell_type": "markdown",
   "metadata": {},
   "source": [
    "**Sets**\n",
    "\n",
    "A set is a set of characters inside a pair of square brackets [] with a special meaning:\n",
    "\n",
    "|Set        | \tDescription                                                                     |\t\n",
    "|:----------|:----------------------------------------------------------------------------------|\n",
    "|[arn] \t    |   Returns a match where one of the specified characters (a, r, or n) are present \t|\n",
    "|[a-n] \t    |   Returns a match for any lower case character, alphabetically between a and n \t|\n",
    "|[^arn]     |\tReturns a match for any character EXCEPT a, r, and n \t                        |\n",
    "|[0123]     |\tReturns a match where any of the specified digits (0, 1, 2, or 3) are present \t|\n",
    "|[0-9] \t    |   Returns a match for any digit between 0 and 9 \t                                |\n",
    "|[0-5][0-9] |\tReturns a match for any two-digit numbers from 00 and 59 \t                    |\n",
    "|[a-zA-Z]   |\tReturns a match for any character alphabetically between a and z, lower case OR upper case \t|\n",
    "|[+]        |\tIn sets, +, *, ., \\|, (), $,\\{\\} has no special meaning, so \\[+\\] means: return a match for any + character in the string|"
   ]
  },
  {
   "cell_type": "markdown",
   "metadata": {},
   "source": [
    "# Python re module\n",
    "\n",
    "We are going to see functions\n",
    "* match\n",
    "* search\n",
    "* findall "
   ]
  },
  {
   "cell_type": "markdown",
   "metadata": {},
   "source": [
    "## **re.match(x)**\n",
    "\n",
    "The match function is used for finding matches at **the beginning of a string only!**\n",
    "\n",
    "Even if you're dealing with a multiline string and include a \"^\" to try to search at the beginning and use the re.MULTILINE flag, it will still only search the beginning of the string.\n",
    "\n",
    "A great use case for re.match is testing a single pattern like a phone number or zip code. It's a good way to tell if your test string matches a desired pattern. This is a quick example of testing to make sure a string matches a desired phone number format."
   ]
  },
  {
   "cell_type": "code",
   "execution_count": 3,
   "metadata": {},
   "outputs": [
    {
     "name": "stdout",
     "output_type": "stream",
     "text": [
      "hello\n"
     ]
    }
   ],
   "source": [
    "import re\n",
    "\n",
    "pattern = r'hello'\n",
    "strng = 'hello world'\n",
    "result = re.match(pattern, strng)\n",
    "\n",
    "print(result.group())"
   ]
  },
  {
   "cell_type": "code",
   "execution_count": 4,
   "metadata": {},
   "outputs": [
    {
     "name": "stdout",
     "output_type": "stream",
     "text": [
      "None object returned\n"
     ]
    }
   ],
   "source": [
    "result = re.match(r'world', 'hello world')\n",
    "if result:\n",
    "    print(result.group()) #Beacause returned value is None we are going to get an error\n",
    "else:\n",
    "    print(\"None object returned\")"
   ]
  },
  {
   "cell_type": "code",
   "execution_count": 6,
   "metadata": {},
   "outputs": [
    {
     "name": "stdout",
     "output_type": "stream",
     "text": [
      "phone number is good\n"
     ]
    }
   ],
   "source": [
    "pattern = r'(\\d{3})-(\\d{3})-(\\d{4})'\n",
    "\n",
    "if re.match(pattern, '925-783-3005'):\n",
    "    print(\"phone number is good\")\n",
    "\n",
    "# If the string matches, a match object will be returned; otherwise it will return None."
   ]
  },
  {
   "cell_type": "markdown",
   "metadata": {},
   "source": [
    "## **re.search(x)**\n",
    "\n",
    "This is similar to the match function but it searches the whole string and returns only the first match. *This does not return more than one match*. If the search is successful, search() **returns a match object** or **None otherwise**."
   ]
  },
  {
   "cell_type": "code",
   "execution_count": 14,
   "metadata": {},
   "outputs": [
    {
     "name": "stdout",
     "output_type": "stream",
     "text": [
      "found word:cat\n"
     ]
    }
   ],
   "source": [
    "#strng1 = \"word:cat!!\"\n",
    "\n",
    "strng2 = 'an example word:cat!! word:Art'\n",
    "\n",
    "pattern = r'word:\\w\\w\\w'\n",
    "\n",
    "result = re.search(pattern, strng2)\n",
    "\n",
    "# If-statement after search() tests if it succeeded\n",
    "if result:\n",
    "  print ('found', result.group()) ## 'found word:cat'\n",
    "else:\n",
    "  print('did not find')"
   ]
  },
  {
   "cell_type": "code",
   "execution_count": 12,
   "metadata": {},
   "outputs": [
    {
     "name": "stdout",
     "output_type": "stream",
     "text": [
      "word:cat\n"
     ]
    }
   ],
   "source": [
    "print(result.group())"
   ]
  },
  {
   "cell_type": "markdown",
   "metadata": {},
   "source": [
    "### Repition\n",
    "\n",
    "Things get more interesting when you use + and * to specify repetition in the pattern\n",
    "\n",
    "  *  \\+ -- 1 or more occurrences of the pattern to its left, e.g. 'i+' = one or more i's\n",
    "  *  \\* -- 0 or more occurrences of the pattern to its left\n",
    "  *   ? -- match 0 or 1 occurrences of the pattern to its left "
   ]
  },
  {
   "cell_type": "code",
   "execution_count": 18,
   "metadata": {},
   "outputs": [
    {
     "name": "stdout",
     "output_type": "stream",
     "text": [
      "1 piii\n",
      "2 ii\n",
      "3 1 2   3\n",
      "4 12  3\n",
      "5 123\n",
      "6 None - so match.group() will give error\n",
      "7 bar\n"
     ]
    }
   ],
   "source": [
    "## i+ = one or more i's, as many as possible.\n",
    "match = re.search(r'pi+', 'piiig') # found, match.group() == \"piii\"\n",
    "print(1,match.group())\n",
    "\n",
    "## Finds the first/leftmost solution, and within it drives the +\n",
    "## as far as possible (aka 'leftmost and largest').\n",
    "## In this example, note that it does not get to the second set of i's.\n",
    "match = re.search(r'i+', 'piigiiii') # found, match.group() == \"ii\"\n",
    "print(2,match.group())\n",
    "\n",
    "## \\s* = zero or more whitespace chars\n",
    "## Here look for 3 digits, possibly separated by whitespace.\n",
    "match = re.search(r'\\d\\s*\\d\\s*\\d', 'xx1 2   3xx') # found, match.group() == \"1 2   3\"\n",
    "print(3, match.group())\n",
    "\n",
    "match = re.search(r'\\d\\s*\\d\\s*\\d', 'xx12  3xx') # found, match.group() == \"12  3\"\n",
    "print(4, match.group())\n",
    "\n",
    "match = re.search(r'\\d\\s*\\d\\s*\\d', 'xx123xx') # found, match.group() == \"123\"\n",
    "print(5, match.group())\n",
    "\n",
    "## ^ = matches the start of string, so this fails:\n",
    "match = re.search(r'^b\\w+', 'foobar') # not found, match == None\n",
    "print(6, \"None - so match.group() will give error\")\n",
    "\n",
    "## but without the ^ it succeeds:\n",
    "match = re.search(r'b\\w+', 'foobar') # found, match.group() == \"bar\"\n",
    "print(7, match.group())\n"
   ]
  },
  {
   "cell_type": "code",
   "execution_count": 15,
   "metadata": {},
   "outputs": [
    {
     "name": "stdout",
     "output_type": "stream",
     "text": [
      "None\n"
     ]
    }
   ],
   "source": [
    "match = re.search(r'^b\\w+', 'foobar') # not found, match == None\n",
    "print(match)"
   ]
  },
  {
   "cell_type": "code",
   "execution_count": 17,
   "metadata": {},
   "outputs": [
    {
     "name": "stdout",
     "output_type": "stream",
     "text": [
      "boobar\n"
     ]
    }
   ],
   "source": [
    "match = re.search(r'^b\\w+', 'boobar') # not found, match == None\n",
    "print(match.group())"
   ]
  },
  {
   "cell_type": "markdown",
   "metadata": {},
   "source": [
    "### Email Example"
   ]
  },
  {
   "cell_type": "markdown",
   "metadata": {},
   "source": [
    "**Finding first letter of the email from string**"
   ]
  },
  {
   "cell_type": "code",
   "execution_count": 21,
   "metadata": {},
   "outputs": [],
   "source": [
    "strng = 'purple alice-b@google.com monkey dishwasher' #[\\w-.]"
   ]
  },
  {
   "cell_type": "code",
   "execution_count": 24,
   "metadata": {},
   "outputs": [
    {
     "name": "stdout",
     "output_type": "stream",
     "text": [
      "<re.Match object; span=(13, 21), match='b@google'>\n",
      "b@google\n"
     ]
    }
   ],
   "source": [
    "pattern = r'\\w+@\\w+' \n",
    "\n",
    "# Remember what \\w does and what \\w+ does\n",
    "\n",
    "match = re.search(pattern, strng)\n",
    "print(match)\n",
    "if match:\n",
    "    print(match.group())  ## 'b@google'"
   ]
  },
  {
   "cell_type": "markdown",
   "metadata": {},
   "source": [
    "**Finding full email from string**"
   ]
  },
  {
   "cell_type": "code",
   "execution_count": 25,
   "metadata": {},
   "outputs": [
    {
     "name": "stdout",
     "output_type": "stream",
     "text": [
      "alice-b@google.com\n"
     ]
    }
   ],
   "source": [
    "match = re.search(r'[\\w.-]+@[\\w.-]+', strng) # The email contains anyletter, - and . only\n",
    "if match:\n",
    "    print(match.group())  ## 'alice-b@google.com"
   ]
  },
  {
   "cell_type": "markdown",
   "metadata": {},
   "source": [
    "**Finding email from string in the form of username and host by grouping them using ()**"
   ]
  },
  {
   "cell_type": "code",
   "execution_count": 27,
   "metadata": {},
   "outputs": [
    {
     "name": "stdout",
     "output_type": "stream",
     "text": [
      "alice-b@google.com\n",
      "alice-b\n",
      "google.com\n"
     ]
    }
   ],
   "source": [
    "#strng = 'purple alice-b@google.com abc@google.com monkey dishwasher' \n",
    "#Above example shows that search will search for only one pattern\n",
    "\n",
    "match = re.search(r'([\\w.-]+)@([\\w.-]+)+', strng)\n",
    "\n",
    "if match:\n",
    "    print(match.group())   ## 'alice-b@google.com' (the whole match)\n",
    "    print(match.group(1))  ## 'alice-b' (the username, group 1)\n",
    "    print(match.group(2))  ## 'google.com' (the host, group 2)\n"
   ]
  },
  {
   "cell_type": "markdown",
   "metadata": {},
   "source": [
    "## re.findall() \n",
    "\n",
    "finds **all** the matches and returns them as a list of strings, with each string representing one match. "
   ]
  },
  {
   "cell_type": "code",
   "execution_count": 28,
   "metadata": {},
   "outputs": [
    {
     "name": "stdout",
     "output_type": "stream",
     "text": [
      "[('alice-b', 'google.com'), ('abc', 'yahoo.com'), ('test', 'microsoft.com')]\n"
     ]
    }
   ],
   "source": [
    "strng = 'purple alice-b@google.com abc@yahoo.com test@microsoft.com monkey dishwasher'\n",
    "\n",
    "match = re.findall(r'([\\w.-]+)@([\\w.-]+)', strng)\n",
    "\n",
    "if match:\n",
    "    print(match)   ## 'alice-b@google.com' (the whole match)\n"
   ]
  },
  {
   "cell_type": "markdown",
   "metadata": {},
   "source": [
    "### Reading from the file \n",
    "* f = open(filename,specifier) \n",
    "* f.close() \n",
    "* f.read()\n",
    "* f.readline()"
   ]
  },
  {
   "cell_type": "code",
   "execution_count": 30,
   "metadata": {},
   "outputs": [],
   "source": [
    "f = open(\"test.txt\",\"w\")\n",
    "f.write(\"abc-1@a12.com\\n\")\n",
    "f.write(\"abc-1a12.com\\n\")\n",
    "f.write(\"abc-1@a12.com\\n\")\n",
    "f.write(\"abc-1a12.com\\n\")\n",
    "f.write(\"abg@a12.com\\n\")\n",
    "f.write(\"abef@a12.com\\n\")\n",
    "f.write(\"abcd@a12.com\\n\")\n",
    "f.close()"
   ]
  },
  {
   "cell_type": "code",
   "execution_count": 31,
   "metadata": {},
   "outputs": [
    {
     "data": {
      "text/plain": [
       "[('abc-1', 'a12.com'),\n",
       " ('abc-1', 'a12.com'),\n",
       " ('abg', 'a12.com'),\n",
       " ('abef', 'a12.com'),\n",
       " ('abcd', 'a12.com')]"
      ]
     },
     "execution_count": 31,
     "metadata": {},
     "output_type": "execute_result"
    }
   ],
   "source": [
    "# Open file\n",
    "f = open('test.txt', 'r') #File not in the system\n",
    "# Feed the file text into findall(); it returns a list of all the found strings\n",
    "strings = re.findall(r'([\\w.-]+)@([\\w.-]+)', f.read())\n",
    "strings"
   ]
  },
  {
   "cell_type": "markdown",
   "metadata": {},
   "source": [
    "# Further reading\n",
    "* [Cheatsheet](https://www.debuggex.com/cheatsheet/regex/python)\n",
    "* [Official Documentation](https://docs.python.org/3/library/re.html)"
   ]
  }
 ],
 "metadata": {
  "kernelspec": {
   "display_name": "Python 3",
   "language": "python",
   "name": "python3"
  },
  "language_info": {
   "codemirror_mode": {
    "name": "ipython",
    "version": 3
   },
   "file_extension": ".py",
   "mimetype": "text/x-python",
   "name": "python",
   "nbconvert_exporter": "python",
   "pygments_lexer": "ipython3",
   "version": "3.7.6"
  },
  "toc": {
   "base_numbering": 1,
   "nav_menu": {},
   "number_sections": true,
   "sideBar": true,
   "skip_h1_title": false,
   "title_cell": "Table of Contents",
   "title_sidebar": "Contents",
   "toc_cell": false,
   "toc_position": {},
   "toc_section_display": true,
   "toc_window_display": false
  }
 },
 "nbformat": 4,
 "nbformat_minor": 4
}
